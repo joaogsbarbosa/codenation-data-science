{
 "cells": [
  {
   "cell_type": "code",
   "execution_count": null,
   "metadata": {},
   "outputs": [],
   "source": []
  },
  {
   "cell_type": "code",
   "execution_count": 7,
   "metadata": {},
   "outputs": [],
   "source": [
    "import pandas as pd\n",
    "from collections import Counter\n",
    "import numpy as np\n",
    "from sklearn.ensemble import RandomForestClassifier"
   ]
  },
  {
   "cell_type": "code",
   "execution_count": null,
   "metadata": {},
   "outputs": [],
   "source": []
  },
  {
   "cell_type": "code",
   "execution_count": 8,
   "metadata": {},
   "outputs": [
    {
     "name": "stdout",
     "output_type": "stream",
     "text": [
      "Training Features Shape: (13730, 123)\n",
      "Training Labels Shape: (13730,)\n"
     ]
    },
    {
     "name": "stderr",
     "output_type": "stream",
     "text": [
      "[Parallel(n_jobs=-1)]: Using backend ThreadingBackend with 8 concurrent workers.\n",
      "[Parallel(n_jobs=-1)]: Done  34 tasks      | elapsed:    0.0s\n",
      "[Parallel(n_jobs=-1)]: Done 184 tasks      | elapsed:    0.4s\n",
      "[Parallel(n_jobs=-1)]: Done 200 out of 200 | elapsed:    0.4s finished\n",
      "[Parallel(n_jobs=8)]: Using backend ThreadingBackend with 8 concurrent workers.\n",
      "[Parallel(n_jobs=8)]: Done  34 tasks      | elapsed:    0.0s\n",
      "[Parallel(n_jobs=8)]: Done 184 tasks      | elapsed:    0.0s\n",
      "[Parallel(n_jobs=8)]: Done 200 out of 200 | elapsed:    0.0s finished\n"
     ]
    }
   ],
   "source": [
    "df_test = pd.read_csv('test.csv')\n",
    "df_train = pd.read_csv('train.csv')\n",
    "\n",
    "\n",
    "ID = 'NU_INSCRICAO'\n",
    "target = 'IN_TREINEIRO'\n",
    "df = df_train[list(df_test.columns)].fillna(0)\n",
    "df = df.drop(columns=[ID])\n",
    "train_features = pd.get_dummies(df)\n",
    "\n",
    "\n",
    "train_labels = np.array(df_train[target].to_list())\n",
    "feature_list = list(train_features.columns)\n",
    "features_nparray = np.array(train_features)\n",
    "\n",
    "print('Training Features Shape:', train_features.shape)\n",
    "print('Training Labels Shape:', train_labels.shape)\n",
    "\n",
    "\n",
    "rf = RandomForestClassifier(n_estimators = 200, random_state = 42, n_jobs = -1, verbose = 1)\n",
    "rf.fit(train_features, train_labels);\n",
    "\n",
    "\n",
    "\n",
    "df_answer = pd.DataFrame()\n",
    "\n",
    "df_answer[ID] = df_test[ID]\n",
    "df_test = df_test.drop(columns=[ID]).fillna(0)\n",
    "test_features = pd.get_dummies(df_test)\n",
    "predictions = rf.predict(test_features)\n",
    "\n",
    "df_answer[target] = list(predictions)\n",
    "\n",
    "df_answer.to_csv('answer.csv', index=False)"
   ]
  }
 ],
 "metadata": {
  "kernelspec": {
   "display_name": "Python 3",
   "language": "python",
   "name": "python3"
  },
  "language_info": {
   "codemirror_mode": {
    "name": "ipython",
    "version": 3
   },
   "file_extension": ".py",
   "mimetype": "text/x-python",
   "name": "python",
   "nbconvert_exporter": "python",
   "pygments_lexer": "ipython3",
   "version": "3.8.3"
  }
 },
 "nbformat": 4,
 "nbformat_minor": 4
}
