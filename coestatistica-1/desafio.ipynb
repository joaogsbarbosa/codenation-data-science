{
 "cells": [
  {
   "cell_type": "code",
   "execution_count": 103,
   "metadata": {
    "tags": []
   },
   "outputs": [],
   "source": [
    "import pandas as pd"
   ]
  },
  {
   "cell_type": "code",
   "execution_count": 104,
   "metadata": {},
   "outputs": [
    {
     "output_type": "execute_result",
     "data": {
      "text/plain": "      RowNumber                                        id  \\\n0             1  e7f44fcbd380d4cef7e6c232cc7e37895c3fd197   \n1             2  28dcb083ad90512da16b9430085c2cddb8ca5e12   \n2             3  774bc378f787438c9c7594e536787d07a097a54b   \n3             4  043a71326f7096de155e7f0c559dc62b5e4b7239   \n4             5  37b3bb8ca243955fb3605ec7e1c2a4607cdb3b22   \n...         ...                                       ...   \n6995       6996  3e607c788c09d6e1f99cc50575e471fee41a322a   \n6996       6997  2afdb40334e1bef3451f3db02b12c255c7a9ff57   \n6997       6998  6a0589e36c12f95a8d3678b460519ed654fe0a3e   \n6998       6999  c042de909a1fb157765c84c3278d8e6500807367   \n6999       7000  cdce83890ea1d7b64b2caaaea76f499cb5dfe684   \n\n                                     sobrenome  pontuacao_credito  \\\n0     6d6e0aa1b9b413e442e2fb68df14b4fc3f91de50                619   \n1     48e1ad846796fa314f1b4a6702b83343eb5482c5                608   \n2     f2b29d5d934de615812b697132e767dea0f1e9e2                502   \n3     85d5c9da7cddd8109ad32a6c348fe2bb10bf99f2                699   \n4     ddc89c837a6933639de75f28171057060bd322df                850   \n...                                        ...                ...   \n6995  ef547badb8b0801d06a93155cc052341c749d1c0                633   \n6996  e3eb2eea41a60b08392da20a49543d05ac484255                623   \n6997  e65e12a7eb4e0b15e6d3afb127ce38c0a5303188                611   \n6998  a52bbf77611eab47a6eff8641a1a9bd01006acbe                666   \n6999  2265b3657cc5e97382dc46819e3937c363fe165e                521   \n\n     estado_residencia genero  idade  nivel_estabilidade  saldo_conta  \\\n0                   SC      F     42                   2         0.00   \n1                   RS      F     41                   1     83807.86   \n2                   SC      F     42                   8    159660.80   \n3                   SC      F     39                   1         0.00   \n4                   RS      F     43                   2    125510.82   \n...                ...    ...    ...                 ...          ...   \n6995                SC      F     32                   1    104001.38   \n6996                RS      F     50                   2     87116.71   \n6997                SC      M     68                   5     82547.11   \n6998                RS      F     47                   5         0.00   \n6999                SC      M     27                   4    121325.84   \n\n      numero_produtos  possui_cartao_de_credito  membro_ativo  \n0                   1                         1             1  \n1                   1                         0             1  \n2                   3                         1             0  \n3                   2                         0             0  \n4                   1                         1             1  \n...               ...                       ...           ...  \n6995                1                         0             1  \n6996                1                         1             1  \n6997                2                         1             1  \n6998                1                         0             0  \n6999                1                         1             1  \n\n[7000 rows x 12 columns]",
      "text/html": "<div>\n<style scoped>\n    .dataframe tbody tr th:only-of-type {\n        vertical-align: middle;\n    }\n\n    .dataframe tbody tr th {\n        vertical-align: top;\n    }\n\n    .dataframe thead th {\n        text-align: right;\n    }\n</style>\n<table border=\"1\" class=\"dataframe\">\n  <thead>\n    <tr style=\"text-align: right;\">\n      <th></th>\n      <th>RowNumber</th>\n      <th>id</th>\n      <th>sobrenome</th>\n      <th>pontuacao_credito</th>\n      <th>estado_residencia</th>\n      <th>genero</th>\n      <th>idade</th>\n      <th>nivel_estabilidade</th>\n      <th>saldo_conta</th>\n      <th>numero_produtos</th>\n      <th>possui_cartao_de_credito</th>\n      <th>membro_ativo</th>\n    </tr>\n  </thead>\n  <tbody>\n    <tr>\n      <th>0</th>\n      <td>1</td>\n      <td>e7f44fcbd380d4cef7e6c232cc7e37895c3fd197</td>\n      <td>6d6e0aa1b9b413e442e2fb68df14b4fc3f91de50</td>\n      <td>619</td>\n      <td>SC</td>\n      <td>F</td>\n      <td>42</td>\n      <td>2</td>\n      <td>0.00</td>\n      <td>1</td>\n      <td>1</td>\n      <td>1</td>\n    </tr>\n    <tr>\n      <th>1</th>\n      <td>2</td>\n      <td>28dcb083ad90512da16b9430085c2cddb8ca5e12</td>\n      <td>48e1ad846796fa314f1b4a6702b83343eb5482c5</td>\n      <td>608</td>\n      <td>RS</td>\n      <td>F</td>\n      <td>41</td>\n      <td>1</td>\n      <td>83807.86</td>\n      <td>1</td>\n      <td>0</td>\n      <td>1</td>\n    </tr>\n    <tr>\n      <th>2</th>\n      <td>3</td>\n      <td>774bc378f787438c9c7594e536787d07a097a54b</td>\n      <td>f2b29d5d934de615812b697132e767dea0f1e9e2</td>\n      <td>502</td>\n      <td>SC</td>\n      <td>F</td>\n      <td>42</td>\n      <td>8</td>\n      <td>159660.80</td>\n      <td>3</td>\n      <td>1</td>\n      <td>0</td>\n    </tr>\n    <tr>\n      <th>3</th>\n      <td>4</td>\n      <td>043a71326f7096de155e7f0c559dc62b5e4b7239</td>\n      <td>85d5c9da7cddd8109ad32a6c348fe2bb10bf99f2</td>\n      <td>699</td>\n      <td>SC</td>\n      <td>F</td>\n      <td>39</td>\n      <td>1</td>\n      <td>0.00</td>\n      <td>2</td>\n      <td>0</td>\n      <td>0</td>\n    </tr>\n    <tr>\n      <th>4</th>\n      <td>5</td>\n      <td>37b3bb8ca243955fb3605ec7e1c2a4607cdb3b22</td>\n      <td>ddc89c837a6933639de75f28171057060bd322df</td>\n      <td>850</td>\n      <td>RS</td>\n      <td>F</td>\n      <td>43</td>\n      <td>2</td>\n      <td>125510.82</td>\n      <td>1</td>\n      <td>1</td>\n      <td>1</td>\n    </tr>\n    <tr>\n      <th>...</th>\n      <td>...</td>\n      <td>...</td>\n      <td>...</td>\n      <td>...</td>\n      <td>...</td>\n      <td>...</td>\n      <td>...</td>\n      <td>...</td>\n      <td>...</td>\n      <td>...</td>\n      <td>...</td>\n      <td>...</td>\n    </tr>\n    <tr>\n      <th>6995</th>\n      <td>6996</td>\n      <td>3e607c788c09d6e1f99cc50575e471fee41a322a</td>\n      <td>ef547badb8b0801d06a93155cc052341c749d1c0</td>\n      <td>633</td>\n      <td>SC</td>\n      <td>F</td>\n      <td>32</td>\n      <td>1</td>\n      <td>104001.38</td>\n      <td>1</td>\n      <td>0</td>\n      <td>1</td>\n    </tr>\n    <tr>\n      <th>6996</th>\n      <td>6997</td>\n      <td>2afdb40334e1bef3451f3db02b12c255c7a9ff57</td>\n      <td>e3eb2eea41a60b08392da20a49543d05ac484255</td>\n      <td>623</td>\n      <td>RS</td>\n      <td>F</td>\n      <td>50</td>\n      <td>2</td>\n      <td>87116.71</td>\n      <td>1</td>\n      <td>1</td>\n      <td>1</td>\n    </tr>\n    <tr>\n      <th>6997</th>\n      <td>6998</td>\n      <td>6a0589e36c12f95a8d3678b460519ed654fe0a3e</td>\n      <td>e65e12a7eb4e0b15e6d3afb127ce38c0a5303188</td>\n      <td>611</td>\n      <td>SC</td>\n      <td>M</td>\n      <td>68</td>\n      <td>5</td>\n      <td>82547.11</td>\n      <td>2</td>\n      <td>1</td>\n      <td>1</td>\n    </tr>\n    <tr>\n      <th>6998</th>\n      <td>6999</td>\n      <td>c042de909a1fb157765c84c3278d8e6500807367</td>\n      <td>a52bbf77611eab47a6eff8641a1a9bd01006acbe</td>\n      <td>666</td>\n      <td>RS</td>\n      <td>F</td>\n      <td>47</td>\n      <td>5</td>\n      <td>0.00</td>\n      <td>1</td>\n      <td>0</td>\n      <td>0</td>\n    </tr>\n    <tr>\n      <th>6999</th>\n      <td>7000</td>\n      <td>cdce83890ea1d7b64b2caaaea76f499cb5dfe684</td>\n      <td>2265b3657cc5e97382dc46819e3937c363fe165e</td>\n      <td>521</td>\n      <td>SC</td>\n      <td>M</td>\n      <td>27</td>\n      <td>4</td>\n      <td>121325.84</td>\n      <td>1</td>\n      <td>1</td>\n      <td>1</td>\n    </tr>\n  </tbody>\n</table>\n<p>7000 rows × 12 columns</p>\n</div>"
     },
     "metadata": {},
     "execution_count": 104
    }
   ],
   "source": [
    "df = pd.read_csv('desafio1.csv')\n",
    "df"
   ]
  },
  {
   "cell_type": "code",
   "execution_count": 105,
   "metadata": {},
   "outputs": [
    {
     "output_type": "execute_result",
     "data": {
      "text/plain": "         RowNumber  pontuacao_credito        idade  nivel_estabilidade  \\\ncount  7000.000000        7000.000000  7000.000000         7000.000000   \nmean   3500.500000         649.787000    38.892714            5.010286   \nstd    2020.870275          97.046279    10.465562            2.887500   \nmin       1.000000         350.000000    18.000000            0.000000   \n25%    1750.750000         582.000000    32.000000            3.000000   \n50%    3500.500000         651.000000    37.000000            5.000000   \n75%    5250.250000         717.000000    44.000000            7.250000   \nmax    7000.000000         850.000000    92.000000           10.000000   \n\n         saldo_conta  numero_produtos  possui_cartao_de_credito  membro_ativo  \ncount    7000.000000      7000.000000               7000.000000   7000.000000  \nmean    76471.883751         1.526000                  0.703286      0.512143  \nstd     62403.383911         0.583047                  0.456842      0.499888  \nmin         0.000000         1.000000                  0.000000      0.000000  \n25%         0.000000         1.000000                  0.000000      0.000000  \n50%     97277.130000         1.000000                  1.000000      1.000000  \n75%    127537.155000         2.000000                  1.000000      1.000000  \nmax    250898.090000         4.000000                  1.000000      1.000000  ",
      "text/html": "<div>\n<style scoped>\n    .dataframe tbody tr th:only-of-type {\n        vertical-align: middle;\n    }\n\n    .dataframe tbody tr th {\n        vertical-align: top;\n    }\n\n    .dataframe thead th {\n        text-align: right;\n    }\n</style>\n<table border=\"1\" class=\"dataframe\">\n  <thead>\n    <tr style=\"text-align: right;\">\n      <th></th>\n      <th>RowNumber</th>\n      <th>pontuacao_credito</th>\n      <th>idade</th>\n      <th>nivel_estabilidade</th>\n      <th>saldo_conta</th>\n      <th>numero_produtos</th>\n      <th>possui_cartao_de_credito</th>\n      <th>membro_ativo</th>\n    </tr>\n  </thead>\n  <tbody>\n    <tr>\n      <th>count</th>\n      <td>7000.000000</td>\n      <td>7000.000000</td>\n      <td>7000.000000</td>\n      <td>7000.000000</td>\n      <td>7000.000000</td>\n      <td>7000.000000</td>\n      <td>7000.000000</td>\n      <td>7000.000000</td>\n    </tr>\n    <tr>\n      <th>mean</th>\n      <td>3500.500000</td>\n      <td>649.787000</td>\n      <td>38.892714</td>\n      <td>5.010286</td>\n      <td>76471.883751</td>\n      <td>1.526000</td>\n      <td>0.703286</td>\n      <td>0.512143</td>\n    </tr>\n    <tr>\n      <th>std</th>\n      <td>2020.870275</td>\n      <td>97.046279</td>\n      <td>10.465562</td>\n      <td>2.887500</td>\n      <td>62403.383911</td>\n      <td>0.583047</td>\n      <td>0.456842</td>\n      <td>0.499888</td>\n    </tr>\n    <tr>\n      <th>min</th>\n      <td>1.000000</td>\n      <td>350.000000</td>\n      <td>18.000000</td>\n      <td>0.000000</td>\n      <td>0.000000</td>\n      <td>1.000000</td>\n      <td>0.000000</td>\n      <td>0.000000</td>\n    </tr>\n    <tr>\n      <th>25%</th>\n      <td>1750.750000</td>\n      <td>582.000000</td>\n      <td>32.000000</td>\n      <td>3.000000</td>\n      <td>0.000000</td>\n      <td>1.000000</td>\n      <td>0.000000</td>\n      <td>0.000000</td>\n    </tr>\n    <tr>\n      <th>50%</th>\n      <td>3500.500000</td>\n      <td>651.000000</td>\n      <td>37.000000</td>\n      <td>5.000000</td>\n      <td>97277.130000</td>\n      <td>1.000000</td>\n      <td>1.000000</td>\n      <td>1.000000</td>\n    </tr>\n    <tr>\n      <th>75%</th>\n      <td>5250.250000</td>\n      <td>717.000000</td>\n      <td>44.000000</td>\n      <td>7.250000</td>\n      <td>127537.155000</td>\n      <td>2.000000</td>\n      <td>1.000000</td>\n      <td>1.000000</td>\n    </tr>\n    <tr>\n      <th>max</th>\n      <td>7000.000000</td>\n      <td>850.000000</td>\n      <td>92.000000</td>\n      <td>10.000000</td>\n      <td>250898.090000</td>\n      <td>4.000000</td>\n      <td>1.000000</td>\n      <td>1.000000</td>\n    </tr>\n  </tbody>\n</table>\n</div>"
     },
     "metadata": {},
     "execution_count": 105
    }
   ],
   "source": [
    "df.describe()"
   ]
  },
  {
   "cell_type": "code",
   "execution_count": 106,
   "metadata": {
    "tags": []
   },
   "outputs": [
    {
     "output_type": "stream",
     "name": "stdout",
     "text": "<class 'pandas.core.frame.DataFrame'>\nRangeIndex: 7000 entries, 0 to 6999\nData columns (total 12 columns):\n #   Column                    Non-Null Count  Dtype  \n---  ------                    --------------  -----  \n 0   RowNumber                 7000 non-null   int64  \n 1   id                        7000 non-null   object \n 2   sobrenome                 7000 non-null   object \n 3   pontuacao_credito         7000 non-null   int64  \n 4   estado_residencia         7000 non-null   object \n 5   genero                    7000 non-null   object \n 6   idade                     7000 non-null   int64  \n 7   nivel_estabilidade        7000 non-null   int64  \n 8   saldo_conta               7000 non-null   float64\n 9   numero_produtos           7000 non-null   int64  \n 10  possui_cartao_de_credito  7000 non-null   int64  \n 11  membro_ativo              7000 non-null   int64  \ndtypes: float64(1), int64(7), object(4)\nmemory usage: 656.4+ KB\n"
    }
   ],
   "source": [
    "df.info()"
   ]
  },
  {
   "cell_type": "code",
   "execution_count": 107,
   "metadata": {},
   "outputs": [
    {
     "output_type": "execute_result",
     "data": {
      "text/plain": "                   moda  mediana       media  desvio_padrao\nestado_residencia                                          \nPR                  850      650  648.961294      98.607186\nRS                  850      650  651.105143      95.136598\nSC                  850      653  649.537653      97.233493",
      "text/html": "<div>\n<style scoped>\n    .dataframe tbody tr th:only-of-type {\n        vertical-align: middle;\n    }\n\n    .dataframe tbody tr th {\n        vertical-align: top;\n    }\n\n    .dataframe thead th {\n        text-align: right;\n    }\n</style>\n<table border=\"1\" class=\"dataframe\">\n  <thead>\n    <tr style=\"text-align: right;\">\n      <th></th>\n      <th>moda</th>\n      <th>mediana</th>\n      <th>media</th>\n      <th>desvio_padrao</th>\n    </tr>\n    <tr>\n      <th>estado_residencia</th>\n      <th></th>\n      <th></th>\n      <th></th>\n      <th></th>\n    </tr>\n  </thead>\n  <tbody>\n    <tr>\n      <th>PR</th>\n      <td>850</td>\n      <td>650</td>\n      <td>648.961294</td>\n      <td>98.607186</td>\n    </tr>\n    <tr>\n      <th>RS</th>\n      <td>850</td>\n      <td>650</td>\n      <td>651.105143</td>\n      <td>95.136598</td>\n    </tr>\n    <tr>\n      <th>SC</th>\n      <td>850</td>\n      <td>653</td>\n      <td>649.537653</td>\n      <td>97.233493</td>\n    </tr>\n  </tbody>\n</table>\n</div>"
     },
     "metadata": {},
     "execution_count": 107
    }
   ],
   "source": [
    "resposta = df.groupby('estado_residencia').agg(moda=('pontuacao_credito', pd.Series.mode), mediana=('pontuacao_credito', 'median'), media=('pontuacao_credito', 'mean'), desvio_padrao=('pontuacao_credito', 'std'))\n",
    "resposta"
   ]
  },
  {
   "cell_type": "code",
   "execution_count": 108,
   "metadata": {},
   "outputs": [],
   "source": [
    "resposta.T.sort_index(axis=1, ascending='false').to_json('submission.json')"
   ]
  }
 ],
 "metadata": {
  "language_info": {
   "codemirror_mode": {
    "name": "ipython",
    "version": 3
   },
   "file_extension": ".py",
   "mimetype": "text/x-python",
   "name": "python",
   "nbconvert_exporter": "python",
   "pygments_lexer": "ipython3",
   "version": 3
  },
  "orig_nbformat": 2,
  "kernelspec": {
   "name": "python_defaultSpec_1593634006338",
   "display_name": "Python 3.7.6 64-bit ('base': conda)"
  }
 },
 "nbformat": 4,
 "nbformat_minor": 2
}